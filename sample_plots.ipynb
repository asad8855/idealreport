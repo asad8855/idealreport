{
 "cells": [
  {
   "cell_type": "code",
   "execution_count": null,
   "metadata": {
    "collapsed": true
   },
   "outputs": [],
   "source": [
    "import os\n",
    "\n",
    "from pandas import DataFrame, date_range\n",
    "import numpy as np\n",
    "\n",
    "from idealreport import create_html\n",
    "from idealreport.reporter import Reporter\n",
    "import htmltag"
   ]
  },
  {
   "cell_type": "code",
   "execution_count": null,
   "metadata": {},
   "outputs": [],
   "source": [
    "# instantiate reporter object and set output location\n",
    "\n",
    "output_path = '/home/jason/ideal/reports/sample_report/output'\n",
    "output_file = os.path.join(output_path, 'sample_plots.html')\n",
    "r = Reporter(title='Sample Plots', output_file=output_file)\n",
    "\n",
    "# report start\n",
    "r.h += htmltag.h3('This report provides an overivew of the different plot types.')"
   ]
  },
  {
   "cell_type": "code",
   "execution_count": null,
   "metadata": {},
   "outputs": [],
   "source": [
    "# vertical bar chart\n",
    "\n",
    "ch = DataFrame({'Entity': ['Entity 1', 'Entity 2', 'Entity 3', 'Entity 4', 'Entity 5'],\n",
    "                  'Stat 1': np.random.randn(5).tolist(),\n",
    "                  'Stat 2': np.random.randn(5).tolist(),\n",
    "                })\n",
    "\n",
    "# note the x values are generally assumed to be in the index, with each non index column being a series of y values\n",
    "# a few exceptions are outlined below\n",
    "ch = ch.set_index('Entity')\n",
    "ch = ch.sort_values(by='Stat 1', ascending=False)\n",
    "\n",
    "# each object can be built by create_html for more flexibility\n",
    "\n",
    "# graphs are generated from dictionaries with attributes and a data dictionary as an entry\n",
    "bar_plot = {\n",
    "    'title': 'Vertical Bar Chart by Create HTML',\n",
    "    'data': [\n",
    "        {\n",
    "            'df': ch,\n",
    "            'type': 'bar',\n",
    "            'orientation': 'v',\n",
    "        },\n",
    "    ],\n",
    "    'labelX': 'Entity',\n",
    "    'labelY': '%',\n",
    "    'staticPlot': False\n",
    "}\n",
    "\n",
    "r.h += htmltag.h4('Bar Charts')\n",
    "r.h += create_html.plot(bar_plot)\n",
    "\n",
    "# all of these examples just use the reporter object to build the dictionaries for create_html\n",
    "\n",
    "r.plot.bar(df=ch, title='Vertical Bar Chart by Reporter', xlabel='Entity', ylabel='%')"
   ]
  },
  {
   "cell_type": "code",
   "execution_count": null,
   "metadata": {},
   "outputs": [],
   "source": [
    "# stacked horizontal bar chart, notice additional entry in the data field for orientation\n",
    "\n",
    "ch = DataFrame({'Entity': ['Entity 1', 'Entity 2', 'Entity 3', 'Entity 4', 'Entity 5'],\n",
    "                'Foo': np.random.randn(5).tolist(),\n",
    "                'Bar': np.random.randn(5).tolist(),\n",
    "               })\n",
    "ch = ch.set_index('Entity')\n",
    "ch = ch[['Foo', 'Bar']] # make sure columns have desired order\n",
    "\n",
    "# stacked bars behave oddly with mixed positive / negative numbers, so only use when all numbers are positive or negative within a series\n",
    "ch = ch.abs()\n",
    "ch = ch*100\n",
    "\n",
    "r.plot.barh(df=ch, title='Horizontal Stacked Bar Chart', stacked=True, xlabel='$')"
   ]
  },
  {
   "cell_type": "code",
   "execution_count": null,
   "metadata": {},
   "outputs": [],
   "source": [
    "# line chart\n",
    "\n",
    "ch = DataFrame(np.random.randn(20, 3))\n",
    "ch.columns = ['a', 'b', 'c']\n",
    "ch.a = range(20)\n",
    "ch = ch.set_index('a')\n",
    "\n",
    "r.h += htmltag.h4('Line Charts')\n",
    "r.plot.line(df=ch, title='Line Chart', xlabel='Entity', ylabel='%')"
   ]
  },
  {
   "cell_type": "code",
   "execution_count": null,
   "metadata": {},
   "outputs": [],
   "source": [
    "# time series\n",
    "\n",
    "ind = date_range('2017-11-02 9:00', periods=20, freq='T')\n",
    "ch = DataFrame(data=np.random.randn(20,2), index=ind)\n",
    "ch.columns = ['a', 'b']\n",
    "\n",
    "# just like a regular line except the index is timestamps\n",
    "r.plot.time(df=ch, title='Time Series', xlabel='Time', ylabel='%')"
   ]
  },
  {
   "cell_type": "code",
   "execution_count": null,
   "metadata": {},
   "outputs": [],
   "source": [
    "# scatter plot\n",
    "\n",
    "ch = DataFrame(np.random.randn(20, 3))\n",
    "ch.columns = ['a', 'b', 'c']\n",
    "ch = ch.set_index('a')\n",
    "\n",
    "r.h += htmltag.h4('Scatter Plots')\n",
    "r.plot.scatter(df=ch, title='Scatter Plot', xlabel='alpha', ylabel='beta')"
   ]
  },
  {
   "cell_type": "code",
   "execution_count": null,
   "metadata": {},
   "outputs": [],
   "source": [
    "# mixed plot types on one graph\n",
    "\n",
    "ch1 = DataFrame(np.random.randn(20, 2))\n",
    "ch1.columns = ['a', 'b1']\n",
    "ch1.sort_values(by='a', ascending=True, inplace=True)\n",
    "ch1 = ch1.set_index('a')\n",
    "\n",
    "ch2 = DataFrame(np.random.randn(20, 2))\n",
    "ch2.columns = ['a', 'b2']\n",
    "ch2.sort_values(by='a', ascending=True, inplace=True)\n",
    "ch2 = ch2.set_index('a')\n",
    "\n",
    "r.h += htmltag.h4('Mixed Type Plots')\n",
    "r.plot.multi(dfs=[ch1, ch2], types=['line', 'bar'], title='Mixed Line and Bar Plot', xlabel='x label', ylabel='y label')"
   ]
  },
  {
   "cell_type": "code",
   "execution_count": null,
   "metadata": {},
   "outputs": [],
   "source": [
    "# different axes\n",
    "\n",
    "ch1 = DataFrame(np.random.randn(20, 2))\n",
    "ch1.columns = ['x', 'a']\n",
    "ch1.x = range(20)\n",
    "ch1 = ch1.set_index('x')\n",
    "\n",
    "ch2 = DataFrame(np.random.randn(20, 2))\n",
    "ch2.columns = ['x', 'b']\n",
    "ch2.x = range(20)\n",
    "ch2 = ch2.set_index('x')\n",
    "ch2.b *= 100\n",
    "\n",
    "# y2_axis is a list of booleans indicating whether each df should be tied to the y2 axis or not\n",
    "r.plot.multi(dfs=[ch1, ch2], types=['line', 'line'], title='Lines with Different Y Axes', xlabel='x', ylabel='ya', y2_axis=[False,True], y2label='yb')"
   ]
  },
  {
   "cell_type": "code",
   "execution_count": null,
   "metadata": {},
   "outputs": [],
   "source": [
    "# ohlc\n",
    "\n",
    "ch = DataFrame(np.random.randn(4, 4))\n",
    "ch.columns = ['open', 'high', 'low', 'close']\n",
    "ch['high'] = ch['high'] + 3\n",
    "ch['low'] = ch['low'] - 3\n",
    "\n",
    "ch['dealer'] = range(4)\n",
    "ch = ch.set_index('dealer')\n",
    "\n",
    "r.h += htmltag.h4('Open High Low Close (OHCL) Plot')\n",
    "r.plot.ohlc(df=ch, title='OHLC Plot by Reporter', xlabel='price', ylabel='instrument')"
   ]
  },
  {
   "cell_type": "code",
   "execution_count": null,
   "metadata": {},
   "outputs": [],
   "source": [
    "# pie\n",
    "\n",
    "ch = DataFrame(data=[1,2,3,4], index=['Factor %s' % x for x in range(4)])\n",
    "\n",
    "r.h += htmltag.h4('Pie Charts')\n",
    "r.plot.pie(df=ch, title='Pie')\n",
    "\n",
    "r.plot.pie(df=ch, title='Donut', hole=.4, height=300)"
   ]
  },
  {
   "cell_type": "code",
   "execution_count": null,
   "metadata": {},
   "outputs": [],
   "source": [
    "# generate and save the report HTML\n",
    "r.generate()"
   ]
  },
  {
   "cell_type": "code",
   "execution_count": null,
   "metadata": {
    "collapsed": true
   },
   "outputs": [],
   "source": []
  }
 ],
 "metadata": {
  "kernelspec": {
   "display_name": "Python 2",
   "language": "python",
   "name": "python2"
  },
  "language_info": {
   "codemirror_mode": {
    "name": "ipython",
    "version": 2
   },
   "file_extension": ".py",
   "mimetype": "text/x-python",
   "name": "python",
   "nbconvert_exporter": "python",
   "pygments_lexer": "ipython2",
   "version": "2.7.13"
  }
 },
 "nbformat": 4,
 "nbformat_minor": 1
}
