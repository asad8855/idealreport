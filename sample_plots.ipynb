{
 "cells": [
  {
   "cell_type": "code",
   "execution_count": null,
   "metadata": {
    "collapsed": true
   },
   "outputs": [],
   "source": [
    "import time\n",
    "import random\n",
    "import datetime\n",
    "import os\n",
    "from pandas import DataFrame, to_datetime, DatetimeIndex\n",
    "import numpy as np\n",
    "import idealreport.create_html as ch\n",
    "from idealreport.reporter import Reporter\n",
    "import htmltag"
   ]
  },
  {
   "cell_type": "code",
   "execution_count": null,
   "metadata": {
    "collapsed": true
   },
   "outputs": [],
   "source": [
    "dfhb = DataFrame({'Entity': ['Entity 1', 'Entity 2', 'Entity 3', 'Entity 4', 'Entity 5'],\n",
    "                  'Stat 1': np.random.randn(5).tolist(),\n",
    "                  'Stat 2': np.random.randn(5).tolist(),\n",
    "                 })\n",
    "dfhb = dfhb.set_index('Entity')\n",
    "dfhb = dfhb.sort_values(by='Stat 1', ascending=False)\n",
    "\n",
    "bar_plot = {\n",
    "    'title': 'Sample Bar Chart by Create HTML',\n",
    "    'data': [\n",
    "        {\n",
    "            'df': dfhb,\n",
    "            'type': 'bar',\n",
    "            'orientation': 'v',\n",
    "        },\n",
    "    ],\n",
    "    'labelX': 'Entity',\n",
    "    'labelY': '%',\n",
    "    'staticPlot': False\n",
    "}\n",
    "dfhb"
   ]
  },
  {
   "cell_type": "code",
   "execution_count": null,
   "metadata": {
    "collapsed": true
   },
   "outputs": [],
   "source": [
    "dfsb = DataFrame({'Entity': ['Entity 1', 'Entity 2', 'Entity 3', 'Entity 4', 'Entity 5'],\n",
    "                'Foo': [8, 10, 50, 85, 42],\n",
    "                'Bar': [100, 50, 10, 100, 25]})\n",
    "dfsb = dfsb.set_index('Entity')\n",
    "dfsb = dfsb[['Foo', 'Bar']] # make sure columns have desired order\n",
    "\n",
    "stacked_bar_plot = {\n",
    "    'title': 'Sample Stacked Bar Chart by Create HTML',\n",
    "    'data': [\n",
    "        {\n",
    "            'df': dfsb,\n",
    "            'type': 'stackedBar',\n",
    "            'orientation': 'h',\n",
    "        },\n",
    "    ],\n",
    "    'labelX': '$',\n",
    "    'staticPlot': False\n",
    "}\n",
    "dfsb"
   ]
  },
  {
   "cell_type": "code",
   "execution_count": null,
   "metadata": {
    "collapsed": true
   },
   "outputs": [],
   "source": [
    "dfsp = DataFrame(np.random.randn(20, 2))\n",
    "dfsp.columns = ['a', 'b']\n",
    "dfsp = dfsp.set_index('a')\n",
    "scatter_plot = {\n",
    "    'title': 'Sample Scatter Plot by Create HTML',\n",
    "    'data': [\n",
    "        {\n",
    "            'df': dfsp,\n",
    "            'type': 'scatter',\n",
    "        },\n",
    "    ],\n",
    "    'labelX': 'alpha',\n",
    "    'labelY': 'beta',\n",
    "    'staticPlot': False\n",
    "}\n",
    "dfsp.head()"
   ]
  },
  {
   "cell_type": "code",
   "execution_count": null,
   "metadata": {
    "collapsed": true
   },
   "outputs": [],
   "source": [
    "df1 = DataFrame(np.random.randn(200, 2))\n",
    "df1.columns = ['a', 'b1']\n",
    "df1 = df1.set_index('a')\n",
    "df2 = DataFrame(np.random.randn(200, 2))\n",
    "df2.columns = ['a', 'b2']\n",
    "df2 = df2.set_index('a')\n",
    "df3 = DataFrame(np.random.randn(200, 2))\n",
    "df3.columns = ['a', 'b3']\n",
    "df3 = df3.set_index('a')\n",
    "multi_scatter_plot = {\n",
    "    'title': 'Sample Scatter Plot with Multiple Series by Create HTML',\n",
    "    'data': [\n",
    "        {\n",
    "            'df': df1,\n",
    "            'type': 'scatter',\n",
    "        },\n",
    "        {\n",
    "            'df': df2,\n",
    "            'type': 'scatter',\n",
    "        },\n",
    "        {\n",
    "            'df': df3,\n",
    "            'type': 'scatter',\n",
    "        },\n",
    "    ],\n",
    "    'labelX': 'x label',\n",
    "    'labelY': 'y label',\n",
    "}"
   ]
  },
  {
   "cell_type": "code",
   "execution_count": null,
   "metadata": {
    "collapsed": true
   },
   "outputs": [],
   "source": [
    "outout_path = '/home/jason/ideal/reports/sample_report/output'\n",
    "output_file = os.path.join(output_path, 'sample_plots.html')\n",
    "r = Reporter(title='Sample Plots', output_file=output_file)\n",
    "\n",
    "# report start\n",
    "r.h += htmltag.h3('This report illustrates some additional plotting types.')\n",
    "\n",
    "# bar charts\n",
    "r.h += htmltag.h4('Bar Charts')\n",
    "r.plot.bar(df=dfhb, title='Sample Bar Chart by Reporter', xlabel='Entity', ylabel='%')\n",
    "r.h += ch.plot(bar_plot)\n",
    "r.plot.barh(df=dfsb, title='Sample Stacked Bar Chart by Reporter', stacked=True, xlabel='$')\n",
    "r.h += ch.plot(stacked_bar_plot)\n",
    "\n",
    "# scatter plots\n",
    "r.h += htmltag.h4('Scatter Plots')\n",
    "r.plot.scatter(df=dfsp, title='Sample Scatter Plot by Reporter', xlabel='alpha', ylabel='beta')\n",
    "r.h += ch.plot(scatter_plot)\n",
    "r.plot.multi(dfs=[df1, df2, df3], types=['scatter', 'scatter', 'scatter'], title='Sample Scatter Plot with Multiple Series by Reporter', xlabel='alpha', ylabel='beta')\n",
    "r.h += ch.plot(multi_scatter_plot)\n",
    "\n",
    "# generate and save the report HTML\n",
    "r.generate()"
   ]
  },
  {
   "cell_type": "code",
   "execution_count": null,
   "metadata": {
    "collapsed": true
   },
   "outputs": [],
   "source": []
  }
 ],
 "metadata": {
  "kernelspec": {
   "display_name": "Python 2",
   "language": "python",
   "name": "python2"
  },
  "language_info": {
   "codemirror_mode": {
    "name": "ipython",
    "version": 2
   },
   "file_extension": ".py",
   "mimetype": "text/x-python",
   "name": "python",
   "nbconvert_exporter": "python",
   "pygments_lexer": "ipython2",
   "version": "2.7.13"
  }
 },
 "nbformat": 4,
 "nbformat_minor": 1
}
