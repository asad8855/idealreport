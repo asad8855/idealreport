{
 "cells": [
  {
   "cell_type": "code",
   "execution_count": 1,
   "metadata": {
    "collapsed": true
   },
   "outputs": [],
   "source": [
    "import os\n",
    "\n",
    "from pandas import DataFrame, date_range\n",
    "import numpy as np\n",
    "\n",
    "from idealreport import create_html\n",
    "from idealreport.reporter import Reporter\n",
    "import htmltag"
   ]
  },
  {
   "cell_type": "code",
   "execution_count": 2,
   "metadata": {},
   "outputs": [],
   "source": [
    "# instantiate reporter object and set output location\n",
    "\n",
    "output_path = '/home/jason/ideal/reports/sample_report/output'\n",
    "output_file = os.path.join(output_path, 'sample_plots.html')\n",
    "r = Reporter(title='Sample Plots', output_file=output_file)\n",
    "\n",
    "# report start\n",
    "r.h += htmltag.h3('This report provides an overivew of the different plot types.')"
   ]
  },
  {
   "cell_type": "code",
   "execution_count": 3,
   "metadata": {},
   "outputs": [
    {
     "data": {
      "text/plain": [
       "{'data': [{'df':             Stat 1    Stat 2\n",
       "   Entity                      \n",
       "   Entity 2  0.299653  1.211036\n",
       "   Entity 1  0.091964 -0.007555\n",
       "   Entity 5 -0.307883  1.251296\n",
       "   Entity 4 -0.461797  1.524542\n",
       "   Entity 3 -0.510706 -0.638570, 'orientation': 'v', 'type': 'bar'}],\n",
       " 'staticPlot': False,\n",
       " 'title': 'Vertical Bar Chart by Reporter',\n",
       " 'x': {'label': 'Entity'},\n",
       " 'y': {'label': '%'}}"
      ]
     },
     "execution_count": 3,
     "metadata": {},
     "output_type": "execute_result"
    }
   ],
   "source": [
    "# vertical bar chart\n",
    "\n",
    "ch = DataFrame({'Entity': ['Entity 1', 'Entity 2', 'Entity 3', 'Entity 4', 'Entity 5'],\n",
    "                  'Stat 1': np.random.randn(5).tolist(),\n",
    "                  'Stat 2': np.random.randn(5).tolist(),\n",
    "                })\n",
    "\n",
    "# note the x values are generally assumed to be in the index, with each non index column being a series of y values\n",
    "# a few exceptions are outlined below\n",
    "ch = ch.set_index('Entity')\n",
    "ch = ch.sort_values(by='Stat 1', ascending=False)\n",
    "\n",
    "# each object can be built by create_html for more flexibility\n",
    "\n",
    "# graphs are generated from dictionaries with attributes and a data dictionary as an entry\n",
    "bar_plot = {\n",
    "    'title': 'Vertical Bar Chart by Create HTML',\n",
    "    'data': [\n",
    "        {\n",
    "            'df': ch,\n",
    "            'type': 'bar',\n",
    "            'orientation': 'v',\n",
    "        },\n",
    "    ],\n",
    "    'labelX': 'Entity',\n",
    "    'labelY': '%',\n",
    "    'staticPlot': False\n",
    "}\n",
    "\n",
    "r.h += htmltag.h4('Bar Charts')\n",
    "r.h += create_html.plot(bar_plot)\n",
    "\n",
    "# all of these examples just use the reporter object to build the dictionaries for create_html\n",
    "\n",
    "r.plot.bar(df=ch, title='Vertical Bar Chart by Reporter', xlabel='Entity', ylabel='%')"
   ]
  },
  {
   "cell_type": "code",
   "execution_count": 4,
   "metadata": {},
   "outputs": [
    {
     "data": {
      "text/plain": [
       "{'data': [{'df':                  Foo         Bar\n",
       "   Entity                          \n",
       "   Entity 1  165.063188  159.536089\n",
       "   Entity 2  133.794515   64.874633\n",
       "   Entity 3   33.105849   58.210632\n",
       "   Entity 4   95.010840   13.240251\n",
       "   Entity 5  193.778160  204.927478,\n",
       "   'orientation': 'h',\n",
       "   'type': 'stackedBar'}],\n",
       " 'staticPlot': False,\n",
       " 'title': 'Horizontal Stacked Bar Chart',\n",
       " 'x': {'label': '$'}}"
      ]
     },
     "execution_count": 4,
     "metadata": {},
     "output_type": "execute_result"
    }
   ],
   "source": [
    "# stacked horizontal bar chart, notice additional entry in the data field for orientation\n",
    "\n",
    "ch = DataFrame({'Entity': ['Entity 1', 'Entity 2', 'Entity 3', 'Entity 4', 'Entity 5'],\n",
    "                'Foo': np.random.randn(5).tolist(),\n",
    "                'Bar': np.random.randn(5).tolist(),\n",
    "               })\n",
    "ch = ch.set_index('Entity')\n",
    "ch = ch[['Foo', 'Bar']] # make sure columns have desired order\n",
    "\n",
    "# stacked bars behave oddly with mixed positive / negative numbers, so only use when all numbers are positive or negative within a series\n",
    "ch = ch.abs()\n",
    "ch = ch*100\n",
    "\n",
    "r.plot.barh(df=ch, title='Horizontal Stacked Bar Chart', stacked=True, xlabel='$')"
   ]
  },
  {
   "cell_type": "code",
   "execution_count": 5,
   "metadata": {},
   "outputs": [
    {
     "data": {
      "text/plain": [
       "{'data': [{'df':            b         c\n",
       "   a                     \n",
       "   0   0.514645 -1.710508\n",
       "   1   1.530271 -1.077341\n",
       "   2  -0.920036 -0.718898\n",
       "   3  -0.269135 -0.304892\n",
       "   4  -0.869412 -0.654376\n",
       "   5   0.526337  0.081248\n",
       "   6   0.226730  0.711125\n",
       "   7  -0.804674  0.131844\n",
       "   8   0.236074  1.482854\n",
       "   9   0.288534 -0.127145\n",
       "   10  0.606228 -0.699456\n",
       "   11  0.751652  0.996776\n",
       "   12  0.790983 -0.251756\n",
       "   13 -1.362174  0.193250\n",
       "   14  2.105469 -0.444325\n",
       "   15  0.555961 -0.767429\n",
       "   16  0.986980  0.529327\n",
       "   17 -0.386982 -0.752673\n",
       "   18  1.105594  0.374998\n",
       "   19 -0.829967 -0.557065, 'type': 'line'}],\n",
       " 'staticPlot': False,\n",
       " 'title': 'Line Chart',\n",
       " 'x': {'label': 'Entity'},\n",
       " 'y': {'label': '%'}}"
      ]
     },
     "execution_count": 5,
     "metadata": {},
     "output_type": "execute_result"
    }
   ],
   "source": [
    "# line chart\n",
    "\n",
    "ch = DataFrame(np.random.randn(20, 3))\n",
    "ch.columns = ['a', 'b', 'c']\n",
    "ch.a = range(20)\n",
    "ch = ch.set_index('a')\n",
    "\n",
    "r.h += htmltag.h4('Line Charts')\n",
    "r.plot.line(df=ch, title='Line Chart', xlabel='Entity', ylabel='%')"
   ]
  },
  {
   "cell_type": "code",
   "execution_count": 6,
   "metadata": {},
   "outputs": [
    {
     "data": {
      "text/plain": [
       "{'data': [{'df':                             a         b\n",
       "   2017-11-02 09:00:00  0.164488  1.418754\n",
       "   2017-11-02 09:01:00  1.735531  0.232345\n",
       "   2017-11-02 09:02:00  0.695366 -1.092543\n",
       "   2017-11-02 09:03:00 -0.915197  0.020179\n",
       "   2017-11-02 09:04:00 -1.359061 -0.284135\n",
       "   2017-11-02 09:05:00  2.305699 -0.036743\n",
       "   2017-11-02 09:06:00 -2.222610 -0.630516\n",
       "   2017-11-02 09:07:00  1.809981 -1.047924\n",
       "   2017-11-02 09:08:00 -1.343169  0.580274\n",
       "   2017-11-02 09:09:00 -0.002732 -0.819442\n",
       "   2017-11-02 09:10:00  1.618822 -0.537718\n",
       "   2017-11-02 09:11:00 -0.863856 -0.044852\n",
       "   2017-11-02 09:12:00  1.020124  1.183619\n",
       "   2017-11-02 09:13:00  0.305703  0.113012\n",
       "   2017-11-02 09:14:00  0.162127  0.666935\n",
       "   2017-11-02 09:15:00 -0.067257 -0.357314\n",
       "   2017-11-02 09:16:00 -1.234905  0.542565\n",
       "   2017-11-02 09:17:00  0.752043 -0.810283\n",
       "   2017-11-02 09:18:00 -1.872425  0.750384\n",
       "   2017-11-02 09:19:00 -0.180755 -1.406872, 'type': 'line'}],\n",
       " 'staticPlot': False,\n",
       " 'title': 'Time Series',\n",
       " 'x': {'label': 'Time'},\n",
       " 'y': {'label': '%'}}"
      ]
     },
     "execution_count": 6,
     "metadata": {},
     "output_type": "execute_result"
    }
   ],
   "source": [
    "# time series\n",
    "\n",
    "ind = date_range('2017-11-02 9:00', periods=20, freq='T')\n",
    "ch = DataFrame(data=np.random.randn(20,2), index=ind)\n",
    "ch.columns = ['a', 'b']\n",
    "\n",
    "# just like a regular line except the index is timestamps\n",
    "r.plot.time(df=ch, title='Time Series', xlabel='Time', ylabel='%')"
   ]
  },
  {
   "cell_type": "code",
   "execution_count": 7,
   "metadata": {},
   "outputs": [
    {
     "data": {
      "text/plain": [
       "{'data': [{'df':                   b         c\n",
       "   a                            \n",
       "    0.483340 -0.089462 -0.294429\n",
       "    0.753940  0.576042  1.336779\n",
       "   -0.616452 -0.646941  0.920131\n",
       "    1.242979 -1.270761  0.657224\n",
       "    0.650529  0.652512 -0.234936\n",
       "    0.868040 -0.191551  3.570574\n",
       "   -0.174106  2.072705 -0.021228\n",
       "    1.961306  0.615299  0.220797\n",
       "    0.306025  0.713298 -0.053590\n",
       "   -0.299655  1.553355 -0.969138\n",
       "    0.671217  0.407553  0.702356\n",
       "    0.212278 -1.605571  0.684166\n",
       "    0.932841  1.490191 -1.056475\n",
       "   -0.509551  0.656310 -0.665621\n",
       "   -0.593829  1.317131  0.872824\n",
       "   -0.917337  1.231286 -0.081187\n",
       "    1.274666 -0.942772  0.542424\n",
       "   -1.090429 -1.249282 -0.476124\n",
       "   -0.642836 -0.231424 -0.205839\n",
       "   -1.783400 -1.375024  2.123331, 'type': 'scatter'}],\n",
       " 'staticPlot': False,\n",
       " 'title': 'Scatter Plot',\n",
       " 'x': {'label': 'alpha'},\n",
       " 'y': {'label': 'beta'}}"
      ]
     },
     "execution_count": 7,
     "metadata": {},
     "output_type": "execute_result"
    }
   ],
   "source": [
    "# scatter plot\n",
    "\n",
    "ch = DataFrame(np.random.randn(20, 3))\n",
    "ch.columns = ['a', 'b', 'c']\n",
    "ch = ch.set_index('a')\n",
    "\n",
    "r.h += htmltag.h4('Scatter Plots')\n",
    "r.plot.scatter(df=ch, title='Scatter Plot', xlabel='alpha', ylabel='beta')"
   ]
  },
  {
   "cell_type": "code",
   "execution_count": 8,
   "metadata": {},
   "outputs": [
    {
     "data": {
      "text/plain": [
       "{'data': [{'df':                  b1\n",
       "   a                  \n",
       "   -1.626203 -1.297141\n",
       "   -1.277642 -0.825630\n",
       "   -1.275274  0.196175\n",
       "   -1.164451 -0.138213\n",
       "   -1.119178 -0.089327\n",
       "   -0.696649 -1.442830\n",
       "   -0.677210 -0.289843\n",
       "   -0.568898  0.206030\n",
       "   -0.451980  0.345014\n",
       "   -0.445884  0.241573\n",
       "   -0.433120 -0.129361\n",
       "    0.201412 -0.092565\n",
       "    0.316012 -0.030878\n",
       "    0.327010 -0.260897\n",
       "    0.343924 -3.054516\n",
       "    0.508455  0.999153\n",
       "    0.589792 -1.837594\n",
       "    1.083997 -1.762111\n",
       "    1.315986 -1.939990\n",
       "    1.356370  0.970772, 'type': 'line'}, {'df':                  b2\n",
       "   a                  \n",
       "   -1.973560  0.483220\n",
       "   -1.783090  1.726250\n",
       "   -1.531924  0.531902\n",
       "   -1.246060 -1.063610\n",
       "   -1.062432  1.511462\n",
       "   -0.996776 -0.116299\n",
       "   -0.786064 -1.130753\n",
       "   -0.720978 -0.579146\n",
       "   -0.699593 -0.532944\n",
       "   -0.544406  0.955205\n",
       "   -0.350022 -0.422521\n",
       "   -0.294387  0.889307\n",
       "   -0.269425 -0.112062\n",
       "   -0.115948  0.445866\n",
       "    0.523485  0.915453\n",
       "    0.530229  0.538794\n",
       "    1.153809  1.221293\n",
       "    1.283139  2.028306\n",
       "    1.834487  0.664674\n",
       "    2.453642 -1.458375, 'type': 'bar'}],\n",
       " 'staticPlot': False,\n",
       " 'title': 'Mixed Line and Bar Plot',\n",
       " 'x': {'label': 'x label'},\n",
       " 'y': {'label': 'y label'}}"
      ]
     },
     "execution_count": 8,
     "metadata": {},
     "output_type": "execute_result"
    }
   ],
   "source": [
    "# mixed plot types on one graph\n",
    "\n",
    "ch1 = DataFrame(np.random.randn(20, 2))\n",
    "ch1.columns = ['a', 'b1']\n",
    "ch1.sort_values(by='a', ascending=True, inplace=True)\n",
    "ch1 = ch1.set_index('a')\n",
    "\n",
    "ch2 = DataFrame(np.random.randn(20, 2))\n",
    "ch2.columns = ['a', 'b2']\n",
    "ch2.sort_values(by='a', ascending=True, inplace=True)\n",
    "ch2 = ch2.set_index('a')\n",
    "\n",
    "r.h += htmltag.h4('Mixed Type Plots')\n",
    "r.plot.multi(dfs=[ch1, ch2], types=['line', 'bar'], title='Mixed Line and Bar Plot', xlabel='x label', ylabel='y label')"
   ]
  },
  {
   "cell_type": "code",
   "execution_count": 9,
   "metadata": {},
   "outputs": [
    {
     "data": {
      "text/plain": [
       "{'data': [{'df':            a\n",
       "   x           \n",
       "   0   0.485286\n",
       "   1  -1.490647\n",
       "   2   0.000469\n",
       "   3   1.041183\n",
       "   4   1.187626\n",
       "   5   1.219242\n",
       "   6   0.824595\n",
       "   7  -1.280597\n",
       "   8   0.454238\n",
       "   9  -0.463662\n",
       "   10 -0.794674\n",
       "   11 -1.345128\n",
       "   12 -0.818671\n",
       "   13  0.544182\n",
       "   14  0.411447\n",
       "   15  0.295879\n",
       "   16  0.775119\n",
       "   17  1.048946\n",
       "   18 -0.788249\n",
       "   19  0.206882, 'type': 'line', 'y2': False}, {'df':              b\n",
       "   x             \n",
       "   0    82.883191\n",
       "   1    51.718255\n",
       "   2   135.244039\n",
       "   3  -136.541759\n",
       "   4   -33.889934\n",
       "   5   -29.536333\n",
       "   6  -154.932228\n",
       "   7   163.927374\n",
       "   8   171.849169\n",
       "   9  -131.573455\n",
       "   10  -74.450200\n",
       "   11   55.879422\n",
       "   12   22.136987\n",
       "   13   83.718975\n",
       "   14   -5.984934\n",
       "   15   71.428061\n",
       "   16  -22.373818\n",
       "   17  -34.899033\n",
       "   18   13.543579\n",
       "   19   74.515732, 'type': 'line', 'y2': True}],\n",
       " 'staticPlot': False,\n",
       " 'title': 'Lines with Different Y Axes',\n",
       " 'x': {'label': 'x'},\n",
       " 'y': {'label': 'ya'},\n",
       " 'y2': {'label': 'yb'}}"
      ]
     },
     "execution_count": 9,
     "metadata": {},
     "output_type": "execute_result"
    }
   ],
   "source": [
    "# different axes\n",
    "\n",
    "ch1 = DataFrame(np.random.randn(20, 2))\n",
    "ch1.columns = ['x', 'a']\n",
    "ch1.x = range(20)\n",
    "ch1 = ch1.set_index('x')\n",
    "\n",
    "ch2 = DataFrame(np.random.randn(20, 2))\n",
    "ch2.columns = ['x', 'b']\n",
    "ch2.x = range(20)\n",
    "ch2 = ch2.set_index('x')\n",
    "ch2.b *= 100\n",
    "\n",
    "# y2_axis is a list of booleans indicating whether each df should be tied to the y2 axis or not\n",
    "r.plot.multi(dfs=[ch1, ch2], types=['line', 'line'], title='Lines with Different Y Axes', xlabel='x', ylabel='ya', y2_axis=[False,True], y2label='yb')"
   ]
  },
  {
   "cell_type": "code",
   "execution_count": 10,
   "metadata": {},
   "outputs": [
    {
     "data": {
      "text/plain": [
       "{'data': [{'df':             open      high       low     close\n",
       "   dealer                                        \n",
       "   0       0.260311  3.010310 -2.672450  0.738853\n",
       "   1      -0.497054  3.773390 -2.924505  0.156617\n",
       "   2       0.684079  4.722876 -3.823871  1.418983\n",
       "   3       0.163511  2.308643 -2.451459  0.081337, 'type': 'ohlc'}],\n",
       " 'name': '',\n",
       " 'staticPlot': False,\n",
       " 'title': 'OHLC Plot by Reporter',\n",
       " 'x': {'label': 'price'},\n",
       " 'y': {'label': 'instrument'}}"
      ]
     },
     "execution_count": 10,
     "metadata": {},
     "output_type": "execute_result"
    }
   ],
   "source": [
    "# ohlc\n",
    "\n",
    "ch = DataFrame(np.random.randn(4, 4))\n",
    "ch.columns = ['open', 'high', 'low', 'close']\n",
    "ch['high'] = ch['high'] + 3\n",
    "ch['low'] = ch['low'] - 3\n",
    "\n",
    "ch['dealer'] = range(4)\n",
    "ch = ch.set_index('dealer')\n",
    "\n",
    "r.h += htmltag.h4('Open High Low Close (OHCL) Plot')\n",
    "r.plot.ohlc(df=ch, title='OHLC Plot by Reporter', xlabel='price', ylabel='instrument')"
   ]
  },
  {
   "cell_type": "code",
   "execution_count": null,
   "metadata": {
    "collapsed": true
   },
   "outputs": [],
   "source": []
  },
  {
   "cell_type": "code",
   "execution_count": 11,
   "metadata": {},
   "outputs": [
    {
     "name": "stdout",
     "output_type": "stream",
     "text": [
      "saved report to /home/jason/ideal/reports/sample_report/output/sample_plots.html\n"
     ]
    }
   ],
   "source": [
    "# generate and save the report HTML\n",
    "r.generate()"
   ]
  },
  {
   "cell_type": "code",
   "execution_count": null,
   "metadata": {
    "collapsed": true
   },
   "outputs": [],
   "source": []
  }
 ],
 "metadata": {
  "kernelspec": {
   "display_name": "Python 2",
   "language": "python",
   "name": "python2"
  },
  "language_info": {
   "codemirror_mode": {
    "name": "ipython",
    "version": 2
   },
   "file_extension": ".py",
   "mimetype": "text/x-python",
   "name": "python",
   "nbconvert_exporter": "python",
   "pygments_lexer": "ipython2",
   "version": "2.7.13"
  }
 },
 "nbformat": 4,
 "nbformat_minor": 1
}
