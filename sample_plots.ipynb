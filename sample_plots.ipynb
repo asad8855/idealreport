{
 "cells": [
  {
   "cell_type": "code",
   "execution_count": 1,
   "metadata": {
    "collapsed": true
   },
   "outputs": [],
   "source": [
    "import os\n",
    "\n",
    "from pandas import DataFrame, date_range\n",
    "import numpy as np\n",
    "\n",
    "from idealreport.settings import load_settings\n",
    "from idealreport import create_html\n",
    "from idealreport.reporter import Reporter\n",
    "import htmltag"
   ]
  },
  {
   "cell_type": "code",
   "execution_count": 2,
   "metadata": {
    "collapsed": true
   },
   "outputs": [],
   "source": [
    "# load settings from settings.hjson\n",
    "settings = load_settings()\n",
    "\n",
    "# instantiate reporter object and set output location\n",
    "output_file = os.path.join(settings['output_path'], 'sample_plots.html')\n",
    "r = Reporter(title='Sample Plots', output_file=output_file)\n",
    "\n",
    "# report start\n",
    "r.h += htmltag.h3('This report provides an overview of the different plot types.')"
   ]
  },
  {
   "cell_type": "code",
   "execution_count": 3,
   "metadata": {},
   "outputs": [
    {
     "data": {
      "text/plain": [
       "{'data': [{'df':             Stat 1    Stat 2\n",
       "   Entity                      \n",
       "   Entity 3  1.367529  0.729625\n",
       "   Entity 5  0.579619 -0.346069\n",
       "   Entity 1  0.129179  0.189139\n",
       "   Entity 2 -0.586665 -3.182817\n",
       "   Entity 4 -0.662613 -0.039383, 'orientation': 'v', 'type': 'bar'}],\n",
       " 'markers': [{'color': 'rgb(49, 105, 196)'}, {'color': 'rgb(195, 197, 201)'}],\n",
       " 'staticPlot': False,\n",
       " 'title': 'Vertical Bar Chart by Reporter',\n",
       " 'x': {'label': 'Entity'},\n",
       " 'y': {'label': '%'}}"
      ]
     },
     "execution_count": 3,
     "metadata": {},
     "output_type": "execute_result"
    }
   ],
   "source": [
    "# vertical bar chart\n",
    "\n",
    "ch = DataFrame({'Entity': ['Entity 1', 'Entity 2', 'Entity 3', 'Entity 4', 'Entity 5'],\n",
    "                  'Stat 1': np.random.randn(5).tolist(),\n",
    "                  'Stat 2': np.random.randn(5).tolist(),\n",
    "                })\n",
    "\n",
    "# note the x values are generally assumed to be in the index, with each non index column being a series of y values\n",
    "# a few exceptions are outlined below\n",
    "ch = ch.set_index('Entity')\n",
    "ch = ch.sort_values(by='Stat 1', ascending=False)\n",
    "\n",
    "# color choices for bars\n",
    "markers = [\n",
    "    dict(color = 'rgb(49, 105, 196)'),\n",
    "    dict(color = 'rgb(195, 197, 201)')\n",
    "]\n",
    "\n",
    "# each object can be built by create_html for more flexibility\n",
    "\n",
    "# graphs are generated from dictionaries with attributes and a data dictionary as an entry\n",
    "bar_plot = {\n",
    "    'title': 'Vertical Bar Chart by Create HTML',\n",
    "    'data': [\n",
    "        {\n",
    "            'df': ch,\n",
    "            'type': 'bar',\n",
    "            'orientation': 'v',\n",
    "        },\n",
    "    ],\n",
    "    'labelX': 'Entity',\n",
    "    'labelY': '%',\n",
    "    'markers' : markers,\n",
    "    'staticPlot': False\n",
    "}\n",
    "\n",
    "r.h += htmltag.h4('Bar Charts')\n",
    "r.h += create_html.plot(bar_plot)\n",
    "\n",
    "# all of the remaining examples just use the reporter object to build the dictionaries for create_html\n",
    "r.plot.bar(df=ch, title='Vertical Bar Chart by Reporter', xlabel='Entity', ylabel='%', markers=markers)"
   ]
  },
  {
   "cell_type": "code",
   "execution_count": 4,
   "metadata": {},
   "outputs": [
    {
     "data": {
      "text/plain": [
       "{'data': [{'df':                                 Foo         Bar\n",
       "   Entity                                         \n",
       "   Entity 1                  48.110578   13.454903\n",
       "   Entity 2                  85.223416  204.480720\n",
       "   Entity 3aaaaaaaaaaaaaaaa  40.198631  199.638555\n",
       "   Entity 4                  14.251279  277.705472\n",
       "   Entity 5                  66.434562   59.341321,\n",
       "   'orientation': 'h',\n",
       "   'type': 'stackedBar'}],\n",
       " 'layout': {'margin': {'l': 150}},\n",
       " 'markers': [{'color': 'rgb(49, 105, 196)'}, {'color': 'rgb(195, 197, 201)'}],\n",
       " 'staticPlot': False,\n",
       " 'title': 'Horizontal Stacked Bar Chart',\n",
       " 'x': {'label': '$'}}"
      ]
     },
     "execution_count": 4,
     "metadata": {},
     "output_type": "execute_result"
    }
   ],
   "source": [
    "# stacked horizontal bar chart, notice additional entry in the data field for orientation\n",
    "\n",
    "ch = DataFrame({'Entity': ['Entity 1', 'Entity 2', 'Entity 3aaaaaaaaaaaaaaaa', 'Entity 4', 'Entity 5'],\n",
    "                'Foo': np.random.randn(5).tolist(),\n",
    "                'Bar': np.random.randn(5).tolist(),\n",
    "               })\n",
    "ch = ch.set_index('Entity')\n",
    "ch = ch[['Foo', 'Bar']] # make sure columns have desired order\n",
    "\n",
    "markers = [\n",
    "    dict(color = 'rgb(49, 105, 196)'),\n",
    "    dict(color = 'rgb(195, 197, 201)')\n",
    "]\n",
    "\n",
    "# stacked bars behave oddly with mixed positive / negative numbers, so only use when all numbers are positive or negative within a series\n",
    "ch = ch.abs()\n",
    "ch = ch*100\n",
    "\n",
    "r.plot.barh(df=ch, title='Horizontal Stacked Bar Chart', stacked=True, xlabel='$', markers=markers, layout={'margin':{'l':150}})"
   ]
  },
  {
   "cell_type": "code",
   "execution_count": 5,
   "metadata": {},
   "outputs": [
    {
     "data": {
      "text/plain": [
       "{'data': [{'df':                Foo       Bar\n",
       "   Entity                      \n",
       "   Entity 1 -1.790145 -0.325172\n",
       "   Entity 2  2.327553 -1.421649\n",
       "   Entity 3  2.129176 -0.280672\n",
       "   Entity 4 -1.217475 -1.390585\n",
       "   Entity 5  0.882130 -1.975775, 'orientation': 'v', 'type': 'overlayBar'}],\n",
       " 'markers': [{'color': 'rgb(49, 105, 196)'}, {'color': 'rgb(195, 197, 201)'}],\n",
       " 'opacities': [1, 0.6],\n",
       " 'staticPlot': False,\n",
       " 'title': 'Horizontal Overlay Bar Chart',\n",
       " 'widths': [0.2, 0.4],\n",
       " 'x': {'label': '$'}}"
      ]
     },
     "execution_count": 5,
     "metadata": {},
     "output_type": "execute_result"
    }
   ],
   "source": [
    "# horizontal overlay bar chart, notice additional entry in the data field for orientation\n",
    "\n",
    "ch = DataFrame({'Entity': ['Entity 1', 'Entity 2', 'Entity 3', 'Entity 4', 'Entity 5'],\n",
    "                'Foo': np.random.randn(5).tolist(),\n",
    "                'Bar': np.random.randn(5).tolist(),\n",
    "               })\n",
    "ch = ch.set_index('Entity')\n",
    "ch = ch[['Foo', 'Bar']] # make sure columns have desired order\n",
    "\n",
    "markers = [\n",
    "    dict(color = 'rgb(49, 105, 196)'),\n",
    "    dict(color = 'rgb(195, 197, 201)')\n",
    "]\n",
    "\n",
    "widths = [.2, .4]\n",
    "\n",
    "opacities = [1, .6]\n",
    "\n",
    "r.plot.baro(df=ch, title='Horizontal Overlay Bar Chart', orientation='v', xlabel='$', markers=markers, widths=widths, opacities=opacities)"
   ]
  },
  {
   "cell_type": "code",
   "execution_count": 6,
   "metadata": {},
   "outputs": [
    {
     "data": {
      "text/plain": [
       "{'data': [{'df':          Bar       Foo\n",
       "   0   0.227200 -1.324232\n",
       "   1   0.690035 -0.242672\n",
       "   2   0.557168  1.370888\n",
       "   3   0.114939 -0.624767\n",
       "   4   0.779130 -0.070523\n",
       "   5  -0.406012  0.067381\n",
       "   6  -0.309320  0.751917\n",
       "   7   1.031120 -0.072318\n",
       "   8  -0.706812  0.656857\n",
       "   9  -0.801448  0.195134\n",
       "   10 -0.155568 -0.069519\n",
       "   11 -0.296997 -1.695150\n",
       "   12  0.877009  1.068041\n",
       "   13 -0.037745  0.752550\n",
       "   14 -0.545109  1.127007\n",
       "   15  0.502555 -1.224769\n",
       "   16 -0.093255  0.366270\n",
       "   17 -1.536103 -0.404430\n",
       "   18 -1.293479 -0.805617\n",
       "   19  0.928508  0.620160\n",
       "   20 -1.959222 -0.221504\n",
       "   21  0.442055  0.443310\n",
       "   22 -1.461033 -0.151759\n",
       "   23 -0.662825  0.142426\n",
       "   24  0.099818  1.454062\n",
       "   25  0.270476 -1.285750\n",
       "   26 -0.229293 -1.697319\n",
       "   27  0.753703 -1.187583\n",
       "   28 -0.113466  0.440965\n",
       "   29 -1.885941  1.088251\n",
       "   30  1.019858 -0.681579\n",
       "   31 -1.352954 -0.283604\n",
       "   32 -0.231771  1.964161\n",
       "   33 -0.953529 -1.687674\n",
       "   34  0.675599 -0.001867\n",
       "   35  0.090804 -1.114852\n",
       "   36 -0.651222 -0.540744\n",
       "   37 -1.746322 -0.818501\n",
       "   38 -0.169969  0.102161\n",
       "   39 -0.256062  0.526016\n",
       "   40  1.192133  0.249198\n",
       "   41  0.517980 -0.720356\n",
       "   42 -1.575278 -1.500712\n",
       "   43  1.406663 -0.352604\n",
       "   44  0.829742  0.255773\n",
       "   45 -1.098664 -1.016029\n",
       "   46  0.502452  1.017610\n",
       "   47  1.007527 -0.400802\n",
       "   48 -1.116645 -0.121858\n",
       "   49  0.424578  0.946072, 'type': 'histogram'}],\n",
       " 'markers': [{'color': 'rgb(49, 105, 196)'}, {'color': 'rgb(195, 197, 201)'}],\n",
       " 'staticPlot': False,\n",
       " 'title': 'Histogram by Reporter',\n",
       " 'x': {'label': '$'}}"
      ]
     },
     "execution_count": 6,
     "metadata": {},
     "output_type": "execute_result"
    }
   ],
   "source": [
    "# histogram, note that we don't use the index for x values here because there is no x value other than the series\n",
    "\n",
    "ch = DataFrame({'Foo': np.random.randn(50).tolist(),\n",
    "                'Bar': np.random.randn(50).tolist(),\n",
    "               })\n",
    "\n",
    "markers = [\n",
    "    dict(color = 'rgb(49, 105, 196)'),\n",
    "    dict(color = 'rgb(195, 197, 201)')\n",
    "]\n",
    "\n",
    "r.plot.histo(df=ch, title='Histogram by Reporter', xlabel='$', markers=markers)"
   ]
  },
  {
   "cell_type": "code",
   "execution_count": 7,
   "metadata": {},
   "outputs": [
    {
     "data": {
      "text/plain": [
       "{'data': [{'df':            b         c\n",
       "   a                     \n",
       "   0  -1.030605  0.547458\n",
       "   1  -0.502774 -0.376183\n",
       "   2  -0.353608  1.123967\n",
       "   3   0.197732  1.203217\n",
       "   4  -0.288030 -0.236493\n",
       "   5   0.956108 -1.195435\n",
       "   6   1.384704  0.151771\n",
       "   7   0.600588  0.559886\n",
       "   8   0.089681  0.094962\n",
       "   9  -0.795430 -0.701732\n",
       "   10 -0.980151 -1.058429\n",
       "   11  0.869351 -0.780134\n",
       "   12  1.107857 -0.531087\n",
       "   13  0.477846 -1.239293\n",
       "   14 -0.154109  0.836569\n",
       "   15  0.879898  0.326431\n",
       "   16  0.627864  0.730519\n",
       "   17 -0.420596 -1.053594\n",
       "   18  1.020475 -0.043649\n",
       "   19  0.977670 -1.356818, 'type': 'line'}],\n",
       " 'lines': [{'color': 'rgb(49, 105, 196)', 'width': 7},\n",
       "  {'color': 'rgb(195, 197, 201)', 'width': 3}],\n",
       " 'staticPlot': False,\n",
       " 'title': 'Line Chart',\n",
       " 'x': {'label': 'Entity'},\n",
       " 'y': {'label': '%'}}"
      ]
     },
     "execution_count": 7,
     "metadata": {},
     "output_type": "execute_result"
    }
   ],
   "source": [
    "# line chart\n",
    "\n",
    "ch = DataFrame(np.random.randn(20, 3))\n",
    "ch.columns = ['a', 'b', 'c']\n",
    "ch.a = range(20)\n",
    "ch = ch.set_index('a')\n",
    "\n",
    "lines = [\n",
    "    dict(width = 7, color = 'rgb(49, 105, 196)'),\n",
    "    dict(width = 3, color = 'rgb(195, 197, 201)')\n",
    "]\n",
    "\n",
    "r.h += htmltag.h4('Line Charts')\n",
    "r.plot.line(df=ch, title='Line Chart', xlabel='Entity', ylabel='%', lines=lines)"
   ]
  },
  {
   "cell_type": "code",
   "execution_count": 8,
   "metadata": {},
   "outputs": [
    {
     "data": {
      "text/plain": [
       "{'data': [{'df':                             a         b\n",
       "   2017-11-02 09:00:00  0.636796  0.985804\n",
       "   2017-11-02 09:01:00  0.341818 -0.580283\n",
       "   2017-11-02 09:02:00  0.194213  0.978822\n",
       "   2017-11-02 09:03:00  1.122730 -1.776593\n",
       "   2017-11-02 09:04:00  1.370516  0.298101\n",
       "   2017-11-02 09:05:00  0.739894 -0.461746\n",
       "   2017-11-02 09:06:00 -0.301907 -0.705399\n",
       "   2017-11-02 09:07:00  0.566171  2.122549\n",
       "   2017-11-02 09:08:00 -1.041896 -0.879290\n",
       "   2017-11-02 09:09:00  1.106895  0.739714\n",
       "   2017-11-02 09:10:00 -1.133860 -1.155445\n",
       "   2017-11-02 09:11:00  0.534517 -0.658115\n",
       "   2017-11-02 09:12:00  0.933981  1.050032\n",
       "   2017-11-02 09:13:00 -0.292370 -2.497345\n",
       "   2017-11-02 09:14:00 -0.365240 -1.247807\n",
       "   2017-11-02 09:15:00 -2.093237  0.344386\n",
       "   2017-11-02 09:16:00  0.912127  1.340634\n",
       "   2017-11-02 09:17:00  0.696272  0.498619\n",
       "   2017-11-02 09:18:00  0.775894  0.051981\n",
       "   2017-11-02 09:19:00 -0.029622 -0.229957, 'type': 'line'}],\n",
       " 'lines': [{'color': 'rgb(49, 105, 196)', 'width': 7},\n",
       "  {'color': 'rgb(195, 197, 201)', 'width': 3}],\n",
       " 'staticPlot': False,\n",
       " 'title': 'Time Series',\n",
       " 'x': {'label': 'Time'},\n",
       " 'y': {'label': '%'}}"
      ]
     },
     "execution_count": 8,
     "metadata": {},
     "output_type": "execute_result"
    }
   ],
   "source": [
    "# time series\n",
    "\n",
    "ind = date_range('2017-11-02 9:00', periods=20, freq='T')\n",
    "ch = DataFrame(data=np.random.randn(20,2), index=ind)\n",
    "ch.columns = ['a', 'b']\n",
    "\n",
    "lines = [\n",
    "    dict(width = 7, color = 'rgb(49, 105, 196)'),\n",
    "    dict(width = 3, color = 'rgb(195, 197, 201)')\n",
    "]\n",
    "\n",
    "# just like a regular line except the index is timestamps\n",
    "r.plot.time(df=ch, title='Time Series', xlabel='Time', ylabel='%', lines=lines)"
   ]
  },
  {
   "cell_type": "code",
   "execution_count": 9,
   "metadata": {},
   "outputs": [
    {
     "data": {
      "text/plain": [
       "{'data': [{'df':                   b         c\n",
       "   a                            \n",
       "    1.440569 -0.346128 -0.933763\n",
       "    1.371192 -2.306229 -1.871073\n",
       "   -0.216598 -0.270363 -0.798691\n",
       "    0.604361 -0.573449 -0.360504\n",
       "   -0.642397 -0.602907  0.650360\n",
       "   -0.740011  1.518723  0.382181\n",
       "    1.806248  0.136292  0.587423\n",
       "    0.111911 -0.576190 -1.041736\n",
       "    0.926566  0.059695  0.352542\n",
       "    1.024737  0.676927  1.275667\n",
       "    1.326214  0.440229  0.304933\n",
       "    1.002218 -0.840777  2.064582\n",
       "   -0.078972 -0.712174 -0.826262\n",
       "   -0.265663  1.208241  0.483426\n",
       "   -0.764219 -0.961262  1.377738\n",
       "    0.228424  0.654941  1.720767\n",
       "    1.077675  1.481060 -0.679873\n",
       "   -0.948084  0.811142 -0.668915\n",
       "   -0.491194  0.519406  0.785097\n",
       "    0.832603  0.894503  0.740023, 'type': 'scatter'}],\n",
       " 'layout': {'autosize': False,\n",
       "  'displayModeBar': False,\n",
       "  'font': {'color': '#77797c', 'family': 'Arial'},\n",
       "  'height': 500,\n",
       "  'showlegend': False,\n",
       "  'width': 500,\n",
       "  'xaxis': {'autorange': True,\n",
       "   'autotick': True,\n",
       "   'hoverformat': '.2f',\n",
       "   'showgrid': False,\n",
       "   'showline': False,\n",
       "   'showticklabels': True,\n",
       "   'tickcolor': '#acadaf',\n",
       "   'ticks': 'outside',\n",
       "   'zeroline': True,\n",
       "   'zerolinecolor': '#acadaf'},\n",
       "  'yaxis': {'autorange': True,\n",
       "   'autotick': True,\n",
       "   'hoverformat': '.2f',\n",
       "   'linewidth': 10,\n",
       "   'showgrid': False,\n",
       "   'showline': False,\n",
       "   'showticklabels': True,\n",
       "   'tickcolor': '#acadaf',\n",
       "   'ticks': 'outside',\n",
       "   'zeroline': True,\n",
       "   'zerolinecolor': '#acadaf'}},\n",
       " 'markers': [{'color': 'rgb(49, 105, 196)', 'size': 7},\n",
       "  {'color': 'rgb(195, 197, 201)', 'size': 3}],\n",
       " 'x': {'label': 'alpha'},\n",
       " 'y': {'label': 'beta'}}"
      ]
     },
     "execution_count": 9,
     "metadata": {},
     "output_type": "execute_result"
    }
   ],
   "source": [
    "# scatter plot\n",
    "\n",
    "ch = DataFrame(np.random.randn(20, 3))\n",
    "ch.columns = ['a', 'b', 'c']\n",
    "ch = ch.set_index('a')\n",
    "\n",
    "markers = [\n",
    "    dict(size = 7, color = 'rgb(49, 105, 196)'),\n",
    "    dict(size = 3, color = 'rgb(195, 197, 201)')\n",
    "]\n",
    "\n",
    "layout = dict(font=dict(family='Arial',color='#77797c'),\n",
    "    xaxis=dict(\n",
    "        #title='Total Cost (%s)' % basis,\n",
    "        autorange=True,\n",
    "        showgrid=False,\n",
    "        zeroline=True,\n",
    "        showline=False,\n",
    "        zerolinecolor='#acadaf',\n",
    "        autotick=True,\n",
    "        ticks='outside',\n",
    "        tickcolor='#acadaf',\n",
    "        hoverformat='.2f',\n",
    "        showticklabels=True\n",
    "    ),\n",
    "    yaxis=dict(\n",
    "        #title='vs Arrival Mid (%s)' % basis,\n",
    "        autorange=True,\n",
    "        showgrid=False,\n",
    "        zeroline=True,\n",
    "        showline=False,\n",
    "        zerolinecolor='#acadaf',\n",
    "        linewidth=10,\n",
    "        autotick=True,\n",
    "        ticks='outside',\n",
    "        tickcolor='#acadaf',\n",
    "        hoverformat='.2f',\n",
    "        showticklabels=True\n",
    "    ),\n",
    "    autosize=False,\n",
    "    width=500,\n",
    "    height=500,\n",
    "    showlegend=False,\n",
    "    displayModeBar=False)\n",
    "\n",
    "r.h += htmltag.h4('Scatter Plots')\n",
    "r.plot.scatter(df=ch, xlabel='alpha', ylabel='beta', markers=markers, layout=layout) #title='Scatter Plot'"
   ]
  },
  {
   "cell_type": "code",
   "execution_count": 10,
   "metadata": {},
   "outputs": [
    {
     "data": {
      "text/plain": [
       "{'data': [{'df':                  b1\n",
       "   a                  \n",
       "   -1.902754  0.055016\n",
       "   -1.759408  1.229024\n",
       "   -1.332187  1.274223\n",
       "   -1.054086 -0.523043\n",
       "   -0.879287 -0.033535\n",
       "   -0.680298  0.252184\n",
       "   -0.672888 -0.616150\n",
       "   -0.648207  0.460789\n",
       "   -0.345092 -2.320297\n",
       "   -0.283014  1.029104\n",
       "   -0.228053 -1.203196\n",
       "   -0.168892 -0.891985\n",
       "   -0.160651 -0.749832\n",
       "   -0.104923 -1.155270\n",
       "   -0.090761  1.095558\n",
       "    0.456370 -1.209267\n",
       "    0.688171  0.677636\n",
       "    0.689390  0.270047\n",
       "    2.040699  0.892010\n",
       "    2.361148  0.287851, 'type': 'line'}, {'df':                  b2\n",
       "   a                  \n",
       "   -1.780589  0.689588\n",
       "   -1.206842  0.650608\n",
       "   -0.902008 -0.856678\n",
       "   -0.875570 -1.281786\n",
       "   -0.699120 -0.525539\n",
       "   -0.662280  0.364318\n",
       "   -0.623438  0.299339\n",
       "   -0.181810 -0.989080\n",
       "   -0.068158 -1.146867\n",
       "   -0.055327  0.381974\n",
       "    0.025621 -0.449920\n",
       "    0.059995  0.727783\n",
       "    0.096183  0.853505\n",
       "    0.134118 -1.105609\n",
       "    0.232472  1.800104\n",
       "    0.267181 -1.016421\n",
       "    0.300242  0.785084\n",
       "    0.609173  0.308932\n",
       "    0.693286  0.688940\n",
       "    0.991339  2.487074, 'type': 'bar'}],\n",
       " 'staticPlot': False,\n",
       " 'title': 'Mixed Line and Bar Plot',\n",
       " 'x': {'label': 'x label'},\n",
       " 'y': {'label': 'y label'}}"
      ]
     },
     "execution_count": 10,
     "metadata": {},
     "output_type": "execute_result"
    }
   ],
   "source": [
    "# mixed plot types on one graph\n",
    "\n",
    "ch1 = DataFrame(np.random.randn(20, 2))\n",
    "ch1.columns = ['a', 'b1']\n",
    "ch1.sort_values(by='a', ascending=True, inplace=True)\n",
    "ch1 = ch1.set_index('a')\n",
    "\n",
    "ch2 = DataFrame(np.random.randn(20, 2))\n",
    "ch2.columns = ['a', 'b2']\n",
    "ch2.sort_values(by='a', ascending=True, inplace=True)\n",
    "ch2 = ch2.set_index('a')\n",
    "\n",
    "r.h += htmltag.h4('Mixed Type Plots')\n",
    "r.plot.multi(dfs=[ch1, ch2], types=['line', 'bar'], title='Mixed Line and Bar Plot', xlabel='x label', ylabel='y label')"
   ]
  },
  {
   "cell_type": "code",
   "execution_count": 11,
   "metadata": {},
   "outputs": [
    {
     "data": {
      "text/plain": [
       "{'data': [{'df':            a\n",
       "   x           \n",
       "   0   0.015514\n",
       "   1   0.227636\n",
       "   2   0.395607\n",
       "   3  -0.038716\n",
       "   4  -0.940193\n",
       "   5   0.332286\n",
       "   6  -1.437240\n",
       "   7   0.937480\n",
       "   8   0.645959\n",
       "   9   1.279482\n",
       "   10 -0.461300\n",
       "   11 -1.297305\n",
       "   12 -0.010282\n",
       "   13  2.620091\n",
       "   14 -0.795166\n",
       "   15 -0.045892\n",
       "   16 -0.828333\n",
       "   17  1.619021\n",
       "   18  0.050127\n",
       "   19 -0.280979, 'type': 'line', 'y2': False}, {'df':              b\n",
       "   x             \n",
       "   0  -104.684011\n",
       "   1   -37.848250\n",
       "   2   -80.725309\n",
       "   3    12.992667\n",
       "   4    16.172971\n",
       "   5   115.583879\n",
       "   6   -80.784514\n",
       "   7   -19.913835\n",
       "   8    83.140600\n",
       "   9   152.201074\n",
       "   10  -18.619695\n",
       "   11 -128.964608\n",
       "   12    1.264456\n",
       "   13  -11.063070\n",
       "   14   -6.927855\n",
       "   15   85.522276\n",
       "   16   28.085478\n",
       "   17  -20.956698\n",
       "   18   68.381143\n",
       "   19  -56.824921, 'type': 'line', 'y2': True}],\n",
       " 'staticPlot': False,\n",
       " 'title': 'Lines with Different Y Axes',\n",
       " 'x': {'label': 'x'},\n",
       " 'y': {'label': 'ya'},\n",
       " 'y2': {'label': 'yb'}}"
      ]
     },
     "execution_count": 11,
     "metadata": {},
     "output_type": "execute_result"
    }
   ],
   "source": [
    "# different axes\n",
    "\n",
    "ch1 = DataFrame(np.random.randn(20, 2))\n",
    "ch1.columns = ['x', 'a']\n",
    "ch1.x = range(20)\n",
    "ch1 = ch1.set_index('x')\n",
    "\n",
    "ch2 = DataFrame(np.random.randn(20, 2))\n",
    "ch2.columns = ['x', 'b']\n",
    "ch2.x = range(20)\n",
    "ch2 = ch2.set_index('x')\n",
    "ch2.b *= 100\n",
    "\n",
    "# y2_axis is a list of booleans indicating whether each df should be tied to the y2 axis or not\n",
    "r.plot.multi(dfs=[ch1, ch2], types=['line', 'line'], title='Lines with Different Y Axes', xlabel='x', ylabel='ya', y2_axis=[False,True], y2label='yb')"
   ]
  },
  {
   "cell_type": "code",
   "execution_count": 12,
   "metadata": {},
   "outputs": [
    {
     "data": {
      "text/plain": [
       "{'data': [{'df':             open      high       low     close\n",
       "   dealer                                        \n",
       "   0      -0.797561  2.727420 -4.125288  1.329024\n",
       "   1      -0.252218  1.522585 -1.603358  0.067265\n",
       "   2      -0.111633  4.624546 -3.187984  0.106852\n",
       "   3      -0.551059  4.356583 -3.827337 -1.049282, 'type': 'ohlc'}],\n",
       " 'name': '',\n",
       " 'staticPlot': False,\n",
       " 'title': 'OHLC Plot by Reporter',\n",
       " 'x': {'label': 'price'},\n",
       " 'y': {'label': 'instrument'}}"
      ]
     },
     "execution_count": 12,
     "metadata": {},
     "output_type": "execute_result"
    }
   ],
   "source": [
    "# ohlc\n",
    "\n",
    "ch = DataFrame(np.random.randn(4, 4))\n",
    "ch.columns = ['open', 'high', 'low', 'close']\n",
    "ch['high'] = ch['high'] + 3\n",
    "ch['low'] = ch['low'] - 3\n",
    "\n",
    "ch['dealer'] = range(4)\n",
    "ch = ch.set_index('dealer')\n",
    "\n",
    "r.h += htmltag.h4('Open High Low Close (OHCL) Plot')\n",
    "r.plot.ohlc(df=ch, title='OHLC Plot by Reporter', xlabel='price', ylabel='instrument')"
   ]
  },
  {
   "cell_type": "code",
   "execution_count": 13,
   "metadata": {},
   "outputs": [
    {
     "data": {
      "text/plain": [
       "{'data': [{'df':           0\n",
       "   Factor 0  1\n",
       "   Factor 1  2\n",
       "   Factor 2  3\n",
       "   Factor 3  4, 'hole': 0.4, 'type': 'pie'}],\n",
       " 'layout': {'height': 300},\n",
       " 'staticPlot': False,\n",
       " 'title': 'Donut'}"
      ]
     },
     "execution_count": 13,
     "metadata": {},
     "output_type": "execute_result"
    }
   ],
   "source": [
    "# pie\n",
    "\n",
    "ch = DataFrame(data=[1,2,3,4], index=['Factor %s' % x for x in range(4)])\n",
    "\n",
    "r.h += htmltag.h4('Pie Charts')\n",
    "r.plot.pie(df=ch, title='Pie')\n",
    "\n",
    "layout = {'height':300}\n",
    "\n",
    "# only difference for a donut is the hole argument\n",
    "r.plot.pie(df=ch, title='Donut', hole=.4, layout=layout)"
   ]
  },
  {
   "cell_type": "code",
   "execution_count": 14,
   "metadata": {},
   "outputs": [
    {
     "data": {
      "text/plain": [
       "{'data': [{'df':                   y        e1        e2\n",
       "   x                                      \n",
       "   -1.539847  0.505451  0.022329  0.199441\n",
       "   -0.915269  0.856328  0.054009  0.079488\n",
       "    0.857270 -0.917841  0.154115  0.105349\n",
       "   -1.629912  0.746415  0.097020  0.007180\n",
       "    0.777334  0.475820  0.147720  0.123790\n",
       "   -1.233879  0.405725  0.005123  0.001949\n",
       "    1.018666 -0.457004  0.093397  0.042042\n",
       "    0.480004  0.319967  0.108060  0.019693\n",
       "    1.199256  0.405840  0.300837  0.068795\n",
       "    1.597278  0.826564  0.019560  0.039971\n",
       "    1.349409  0.711527  0.013471  0.128120\n",
       "   -2.097500  0.430047  0.234076  0.133467\n",
       "    0.696653 -1.451173  0.048438  0.090663\n",
       "    0.055198 -0.515392  0.045032  0.025270\n",
       "   -1.506431 -0.394713  0.156167  0.015130\n",
       "    0.505373 -0.114542  0.088161  0.012529\n",
       "    1.395322  1.005502  0.054522  0.011329\n",
       "   -2.537596  0.433796  0.186063  0.004153\n",
       "    0.444969  0.148238  0.022931  0.100498\n",
       "   -0.605533 -0.120643  0.166922  0.139319,\n",
       "   'errorBars': {'symmetric': False},\n",
       "   'type': 'scatter'}],\n",
       " 'staticPlot': False,\n",
       " 'title': 'Asymmetric Error Bars'}"
      ]
     },
     "execution_count": 14,
     "metadata": {},
     "output_type": "execute_result"
    }
   ],
   "source": [
    "# error bar charts\n",
    "\n",
    "ch = DataFrame(np.random.randn(20, 4))\n",
    "ch.columns = ['x','y','e1','e2']\n",
    "ch = ch.set_index('x')\n",
    "ch['e1'] = ch['e1'].abs()*0.1\n",
    "ch['e2'] = ch['e2'].abs()*0.1\n",
    "\n",
    "r.h += htmltag.h4('Error Bar Charts')\n",
    "# note only first 3 columns are used for symmetric error bars\n",
    "r.plot.errbar(df=ch, title='Symmetric Error Bars')\n",
    "\n",
    "# just add the flag symmetric=False, otherwise it defaults to True like in the call above\n",
    "r.plot.errbar(df=ch, title='Asymmetric Error Bars', symmetric=False)"
   ]
  },
  {
   "cell_type": "code",
   "execution_count": 15,
   "metadata": {},
   "outputs": [
    {
     "data": {
      "text/plain": [
       "{'data': [{'df':      mean  stdev\n",
       "   day             \n",
       "   1      15   1.00\n",
       "   2      13   2.00\n",
       "   3       7   1.30\n",
       "   4      18   1.00\n",
       "   5      19   2.50\n",
       "   6      24   0.50\n",
       "   7      25   1.50\n",
       "   8      28   0.75,\n",
       "   'fillcolor': 'rgba(0,100,80,0.2)',\n",
       "   'type': 'continuousErrorBars'}],\n",
       " 'staticPlot': False,\n",
       " 'title': 'Symmetric Error Bars'}"
      ]
     },
     "execution_count": 15,
     "metadata": {},
     "output_type": "execute_result"
    }
   ],
   "source": [
    "# error line plots\n",
    "\n",
    "ch = DataFrame({'day': ['1', '2', '3', '4', '5', '6', '7', '8'],\n",
    "                'mean': [15, 13, 7, 18, 19, 24, 25, 28],\n",
    "                'stdev': [1, 2, 1.3, 1, 2.5, .5, 1.5, .75]})\n",
    "ch = ch[['day', 'mean', 'stdev']] # make sure columns have desired order\n",
    "ch = ch.set_index('day')\n",
    "\n",
    "r.h += htmltag.h4('Error Line Plots')\n",
    "r.plot.errline(df=ch, title='Symmetric Error Bars')"
   ]
  },
  {
   "cell_type": "code",
   "execution_count": 16,
   "metadata": {},
   "outputs": [
    {
     "name": "stdout",
     "output_type": "stream",
     "text": [
      "saved report to /home/jason/ideal/reports/sample_report/output/sample_plots.html\n"
     ]
    }
   ],
   "source": [
    "# generate and save the report HTML\n",
    "r.generate()"
   ]
  },
  {
   "cell_type": "code",
   "execution_count": null,
   "metadata": {
    "collapsed": true
   },
   "outputs": [],
   "source": []
  }
 ],
 "metadata": {
  "kernelspec": {
   "display_name": "Python 2",
   "language": "python",
   "name": "python2"
  },
  "language_info": {
   "codemirror_mode": {
    "name": "ipython",
    "version": 2
   },
   "file_extension": ".py",
   "mimetype": "text/x-python",
   "name": "python",
   "nbconvert_exporter": "python",
   "pygments_lexer": "ipython2",
   "version": "2.7.13"
  }
 },
 "nbformat": 4,
 "nbformat_minor": 1
}
